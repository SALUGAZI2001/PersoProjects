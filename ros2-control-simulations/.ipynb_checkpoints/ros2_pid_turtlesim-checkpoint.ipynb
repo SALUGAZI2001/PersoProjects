{
 "cells": [
  {
   "cell_type": "markdown",
   "id": "3717fbad",
   "metadata": {},
   "source": [
    "# Projet ROS2 Dashing : Asservissement PID sur turtlesim (modèle bicyclette)\n"
   ]
  },
  {
   "cell_type": "markdown",
   "id": "8e5eb0ab",
   "metadata": {},
   "source": [
    "## 1. Structure du projet ROS2\n"
   ]
  },
  {
   "cell_type": "markdown",
   "id": "2d23ec40",
   "metadata": {},
   "source": [
    "### 1.1. Création du workspace et du package Python\n"
   ]
  },
  {
   "cell_type": "markdown",
   "id": "52b2e97a",
   "metadata": {},
   "source": [
    "- Commandes exactes pour créer le workspace et le package Python avec ament_python\n"
   ]
  },
  {
   "cell_type": "markdown",
   "id": "feffff17",
   "metadata": {},
   "source": [
    "- Arborescence complète du package\n"
   ]
  },
  {
   "cell_type": "markdown",
   "id": "45b7fa99",
   "metadata": {},
   "source": [
    "- Fichiers package.xml, setup.py expliqués et commentés\n"
   ]
  },
  {
   "cell_type": "markdown",
   "id": "cb0a1a43",
   "metadata": {},
   "source": [
    "\n"
   ]
  },
  {
   "cell_type": "markdown",
   "id": "2b488402",
   "metadata": {},
   "source": [
    "### 1.2. Organisation des fichiers et scripts\n"
   ]
  },
  {
   "cell_type": "markdown",
   "id": "e3ab1cb7",
   "metadata": {},
   "source": [
    "- Présentation des nodes, scripts Python, launch files, fichiers YAML\n"
   ]
  },
  {
   "cell_type": "markdown",
   "id": "cb66a9e6",
   "metadata": {},
   "source": [
    "- Commentaires pour chaque fichier\n"
   ]
  },
  {
   "cell_type": "markdown",
   "id": "27487cc6",
   "metadata": {},
   "source": [
    "\n"
   ]
  },
  {
   "cell_type": "markdown",
   "id": "b5f1728b",
   "metadata": {},
   "source": [
    "## 2. Modélisation : modèle cinématique bicyclette\n"
   ]
  },
  {
   "cell_type": "markdown",
   "id": "54a505ad",
   "metadata": {},
   "source": [
    "### 2.1. Explication pédagogique du modèle\n"
   ]
  },
  {
   "cell_type": "markdown",
   "id": "50e704cd",
   "metadata": {},
   "source": [
    "- Variables d'état, équations, schémas de fonctionnement\n"
   ]
  },
  {
   "cell_type": "markdown",
   "id": "c65e56fa",
   "metadata": {},
   "source": [
    "### 2.2. Linéarisation et correspondance ROS2\n"
   ]
  },
  {
   "cell_type": "markdown",
   "id": "9fa913ab",
   "metadata": {},
   "source": [
    "- Mapping avec geometry_msgs/Twist\n"
   ]
  },
  {
   "cell_type": "markdown",
   "id": "07173740",
   "metadata": {},
   "source": [
    "- Tableaux illustratifs\n"
   ]
  },
  {
   "cell_type": "markdown",
   "id": "b0d79815",
   "metadata": {},
   "source": [
    "\n"
   ]
  },
  {
   "cell_type": "markdown",
   "id": "1cd2e0b2",
   "metadata": {},
   "source": [
    "## 3. Implémentation Python du PID et du node de contrôle\n"
   ]
  },
  {
   "cell_type": "markdown",
   "id": "3f874d86",
   "metadata": {},
   "source": [
    "### 3.1. Code complet commenté : PID, logique de contrôle\n"
   ]
  },
  {
   "cell_type": "markdown",
   "id": "80a9ac98",
   "metadata": {},
   "source": [
    "- Utilisation éventuelle d'une lib type simple-pid ou implementation maison\n"
   ]
  },
  {
   "cell_type": "markdown",
   "id": "570cb0a8",
   "metadata": {},
   "source": [
    "### 3.2. Services et topics utilisés\n"
   ]
  },
  {
   "cell_type": "markdown",
   "id": "ee2d61fc",
   "metadata": {},
   "source": [
    "- Liste exhaustive, schéma de communication, exemples\n"
   ]
  },
  {
   "cell_type": "markdown",
   "id": "a8a4db9a",
   "metadata": {},
   "source": [
    "\n"
   ]
  },
  {
   "cell_type": "markdown",
   "id": "8d771d9b",
   "metadata": {},
   "source": [
    "## 4. Fichiers de configuration, launch et paramétrisation\n"
   ]
  },
  {
   "cell_type": "markdown",
   "id": "b6c49cb2",
   "metadata": {},
   "source": [
    "- launch file Python commenté, exemple de config YAML\n"
   ]
  },
  {
   "cell_type": "markdown",
   "id": "f3d20e95",
   "metadata": {},
   "source": [
    "- entry_points pour ros2 run\n"
   ]
  },
  {
   "cell_type": "markdown",
   "id": "d889e206",
   "metadata": {},
   "source": [
    "\n"
   ]
  },
  {
   "cell_type": "markdown",
   "id": "252b2c12",
   "metadata": {},
   "source": [
    "## 5. Commandes ROS2 exactes\n"
   ]
  },
  {
   "cell_type": "markdown",
   "id": "0024127d",
   "metadata": {},
   "source": [
    "- Liste ordonnée pour toute la chaine : création workspace, build colcon, exécution nodes/launch, rosbag, monitoring, debug\n"
   ]
  },
  {
   "cell_type": "markdown",
   "id": "5a362e90",
   "metadata": {},
   "source": [
    "\n"
   ]
  },
  {
   "cell_type": "markdown",
   "id": "c9b62a8e",
   "metadata": {},
   "source": [
    "## 6. Analyse des résultats et visualisation\n"
   ]
  },
  {
   "cell_type": "markdown",
   "id": "327325dc",
   "metadata": {},
   "source": [
    "- Utilisation de Python-control pour analyser la réponse temporelle\n"
   ]
  },
  {
   "cell_type": "markdown",
   "id": "2acc8ed3",
   "metadata": {},
   "source": [
    "- Graphes (trajectoire, erreur, signaux)\n"
   ]
  },
  {
   "cell_type": "markdown",
   "id": "f995eb1e",
   "metadata": {},
   "source": [
    "- Code et explications\n"
   ]
  },
  {
   "cell_type": "markdown",
   "id": "3f392afa",
   "metadata": {},
   "source": [
    "\n"
   ]
  },
  {
   "cell_type": "markdown",
   "id": "a0314538",
   "metadata": {},
   "source": [
    "## 7. Checklist Livrables Rapport ROS2\n"
   ]
  },
  {
   "cell_type": "markdown",
   "id": "ab677151",
   "metadata": {},
   "source": [
    "- Tableau de toutes les pièces à fournir (fichiers, commandes, captures, rosbags ...)\n"
   ]
  },
  {
   "cell_type": "markdown",
   "id": "a4adc058",
   "metadata": {},
   "source": [
    "- Instructions pour la rédaction du rapport\n"
   ]
  }
 ],
 "metadata": {},
 "nbformat": 4,
 "nbformat_minor": 5
}
